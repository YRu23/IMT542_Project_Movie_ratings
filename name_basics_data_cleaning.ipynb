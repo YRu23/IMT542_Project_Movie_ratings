{
  "nbformat": 4,
  "nbformat_minor": 0,
  "metadata": {
    "colab": {
      "provenance": [],
      "authorship_tag": "ABX9TyNevOR2aTSsOB8Z92m2qL/5",
      "include_colab_link": true
    },
    "kernelspec": {
      "name": "python3",
      "display_name": "Python 3"
    },
    "language_info": {
      "name": "python"
    }
  },
  "cells": [
    {
      "cell_type": "markdown",
      "metadata": {
        "id": "view-in-github",
        "colab_type": "text"
      },
      "source": [
        "<a href=\"https://colab.research.google.com/github/YRu23/IMT542_Project_Movie_ratings/blob/imdb/name_basics_data_cleaning.ipynb\" target=\"_parent\"><img src=\"https://colab.research.google.com/assets/colab-badge.svg\" alt=\"Open In Colab\"/></a>"
      ]
    },
    {
      "cell_type": "code",
      "source": [
        "from google.colab import files\n",
        "\n",
        "# Prompt the user to upload a file\n",
        "uploaded = files.upload()\n",
        "\n",
        "# List the uploaded files\n",
        "for filename in uploaded.keys():\n",
        "    print('User uploaded file \"{name}\" with length {length} bytes'.format(\n",
        "        name=filename, length=len(uploaded[filename])))"
      ],
      "metadata": {
        "id": "6Z5DhDZpQiWv"
      },
      "execution_count": null,
      "outputs": []
    },
    {
      "cell_type": "code",
      "source": [
        "import pandas as pd\n",
        "\n",
        "# Load the CSV file into a DataFrame\n",
        "file_path = '/content/name.basics.csv'  # Adjust the path if needed\n",
        "df_name_basics = pd.read_csv(file_path, encoding='utf-8', on_bad_lines='skip')\n",
        "\n",
        "# Keep only the specified columns\n",
        "df_name_basics = df_name_basics[['nconst', 'primaryName', 'primaryProfession', 'knownForTitles']]\n",
        "\n",
        "# Filter the data to include only rows where 'primaryProfession' contains 'director'\n",
        "df_directors = df_name_basics[df_name_basics['primaryProfession'].str.contains('director', na=False)]\n",
        "\n",
        "# Display the first few rows of the cleaned DataFrame\n",
        "print(df_directors.head())"
      ],
      "metadata": {
        "colab": {
          "base_uri": "https://localhost:8080/"
        },
        "id": "n5Hxc27wROny",
        "outputId": "72b42039-abf7-4b63-bdbd-a239c9172fbc"
      },
      "execution_count": null,
      "outputs": [
        {
          "output_type": "stream",
          "name": "stdout",
          "text": [
            "       nconst     primaryName        primaryProfession  \\\n",
            "4   nm0000005  Ingmar Bergman    writer,director,actor   \n",
            "7   nm0000008   Marlon Brando    actor,director,writer   \n",
            "8   nm0000009  Richard Burton  actor,producer,director   \n",
            "9   nm0000010    James Cagney  actor,director,producer   \n",
            "17  nm0000018    Kirk Douglas  actor,producer,director   \n",
            "\n",
            "                             knownForTitles  \n",
            "4   tt0050986,tt0083922,tt0050976,tt0069467  \n",
            "7   tt0078788,tt0068646,tt0047296,tt0070849  \n",
            "8   tt0061184,tt0087803,tt0059749,tt0057877  \n",
            "9   tt0029870,tt0031867,tt0042041,tt0035575  \n",
            "17  tt0080736,tt0054331,tt0049456,tt0050825  \n"
          ]
        }
      ]
    },
    {
      "cell_type": "code",
      "source": [
        "# Save the cleaned DataFrame to a new CSV file\n",
        "df_directors.to_csv('cleaned_name_basics_directors.csv', index=False)\n",
        "\n",
        "# Download the cleaned file to the local machine\n",
        "from google.colab import files\n",
        "files.download('cleaned_name_basics_directors.csv')"
      ],
      "metadata": {
        "colab": {
          "base_uri": "https://localhost:8080/",
          "height": 17
        },
        "id": "mKtuh5omRW5L",
        "outputId": "06009da5-5c52-4171-d72c-7186a157be29"
      },
      "execution_count": null,
      "outputs": [
        {
          "output_type": "display_data",
          "data": {
            "text/plain": [
              "<IPython.core.display.Javascript object>"
            ],
            "application/javascript": [
              "\n",
              "    async function download(id, filename, size) {\n",
              "      if (!google.colab.kernel.accessAllowed) {\n",
              "        return;\n",
              "      }\n",
              "      const div = document.createElement('div');\n",
              "      const label = document.createElement('label');\n",
              "      label.textContent = `Downloading \"${filename}\": `;\n",
              "      div.appendChild(label);\n",
              "      const progress = document.createElement('progress');\n",
              "      progress.max = size;\n",
              "      div.appendChild(progress);\n",
              "      document.body.appendChild(div);\n",
              "\n",
              "      const buffers = [];\n",
              "      let downloaded = 0;\n",
              "\n",
              "      const channel = await google.colab.kernel.comms.open(id);\n",
              "      // Send a message to notify the kernel that we're ready.\n",
              "      channel.send({})\n",
              "\n",
              "      for await (const message of channel.messages) {\n",
              "        // Send a message to notify the kernel that we're ready.\n",
              "        channel.send({})\n",
              "        if (message.buffers) {\n",
              "          for (const buffer of message.buffers) {\n",
              "            buffers.push(buffer);\n",
              "            downloaded += buffer.byteLength;\n",
              "            progress.value = downloaded;\n",
              "          }\n",
              "        }\n",
              "      }\n",
              "      const blob = new Blob(buffers, {type: 'application/binary'});\n",
              "      const a = document.createElement('a');\n",
              "      a.href = window.URL.createObjectURL(blob);\n",
              "      a.download = filename;\n",
              "      div.appendChild(a);\n",
              "      a.click();\n",
              "      div.remove();\n",
              "    }\n",
              "  "
            ]
          },
          "metadata": {}
        },
        {
          "output_type": "display_data",
          "data": {
            "text/plain": [
              "<IPython.core.display.Javascript object>"
            ],
            "application/javascript": [
              "download(\"download_c0a7e84c-9e4f-4f9a-85aa-e3c552ce74ed\", \"cleaned_name_basics_directors.csv\", 12426783)"
            ]
          },
          "metadata": {}
        }
      ]
    }
  ]
}